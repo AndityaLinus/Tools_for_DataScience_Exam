{
 "cells": [
  {
   "cell_type": "markdown",
   "id": "a8490f17-f293-4934-9bcc-e2239da593f4",
   "metadata": {},
   "source": [
    "# Data Science Tools and Ecosystem"
   ]
  },
  {
   "cell_type": "markdown",
   "id": "6f0f8a6b-980e-4414-a7a0-86ea3dde9dd4",
   "metadata": {},
   "source": [
    "In this notebook, Data Science Tools and Ecosystem are summarized."
   ]
  },
  {
   "cell_type": "markdown",
   "id": "4e0e2d5b-b571-44e0-af85-f39e9f0504da",
   "metadata": {},
   "source": [
    "Some of the popular languages that Data Scientists use are:\n",
    "- Python\n",
    "- R\n",
    "- JavaScript\n",
    "- Julia\n",
    "- C++"
   ]
  },
  {
   "cell_type": "markdown",
   "id": "30282ca4-4f8e-42a5-87d8-f7ca2c758633",
   "metadata": {},
   "source": [
    "Some of the commonly used libraries used by Data Scientists include:\n",
    "- pandas\n",
    "- matplotlib\n",
    "- numpy\n",
    "- ggplot\n",
    "- plotly\n",
    "- TensorFlow\n",
    "- Keras"
   ]
  },
  {
   "cell_type": "markdown",
   "id": "3224e9a7-12d7-45d8-a157-92278beff596",
   "metadata": {},
   "source": [
    "<table>\n",
    "<tr><th>Data Science</th></tr>\n",
    "<tr><td>Jupyter Notebook</td></tr>\n",
    "<tr><td>AnacondaGUI</td></tr>\n",
    "<tr><td>PyCharm</td></tr>\n",
    "<tr><td>RStudio</td></tr>\n",
    "</table>\n"
   ]
  },
  {
   "cell_type": "markdown",
   "id": "02f9649c-ce94-4d0f-a1c8-50f4e318e2cc",
   "metadata": {},
   "source": [
    "### Below are a few examples of evaluating arithmetic expressions in Python"
   ]
  },
  {
   "cell_type": "code",
   "execution_count": 2,
   "id": "8c44d4ec-bf3f-42fe-86bf-af6abdc4ad0b",
   "metadata": {},
   "outputs": [
    {
     "data": {
      "text/plain": [
       "17"
      ]
     },
     "execution_count": 2,
     "metadata": {},
     "output_type": "execute_result"
    }
   ],
   "source": [
    "(3*4)+5"
   ]
  },
  {
   "cell_type": "markdown",
   "id": "991deec5-5260-4044-981f-3225f08c9e79",
   "metadata": {},
   "source": [
    "### convert minutes to hours"
   ]
  },
  {
   "cell_type": "code",
   "execution_count": 8,
   "id": "b69c2b8d-32fb-40ac-8eb9-97a3dc0d14fe",
   "metadata": {},
   "outputs": [
    {
     "name": "stdout",
     "output_type": "stream",
     "text": [
      "200 minutes =  3.3333333333333335 hours\n"
     ]
    }
   ],
   "source": [
    "minutes = 200\n",
    "\n",
    "hours = 200/60\n",
    "\n",
    "print(f\"{minutes} minutes =  {hours} hours\")"
   ]
  },
  {
   "cell_type": "markdown",
   "id": "3820f0bd-c136-495c-bfa3-7d8f033be981",
   "metadata": {},
   "source": [
    "## Objectives: ##\n",
    "- List popular languages for Data Science\n",
    "- Understanding the popular tools for Data Science\n",
    "- Try to operate programming tools \n"
   ]
  }
 ],
 "metadata": {
  "kernelspec": {
   "display_name": "Python 3 (ipykernel)",
   "language": "python",
   "name": "python3"
  },
  "language_info": {
   "codemirror_mode": {
    "name": "ipython",
    "version": 3
   },
   "file_extension": ".py",
   "mimetype": "text/x-python",
   "name": "python",
   "nbconvert_exporter": "python",
   "pygments_lexer": "ipython3",
   "version": "3.11.9"
  }
 },
 "nbformat": 4,
 "nbformat_minor": 5
}
